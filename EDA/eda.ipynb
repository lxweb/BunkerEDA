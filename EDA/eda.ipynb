{
 "cells": [
  {
   "cell_type": "code",
   "execution_count": null,
   "metadata": {},
   "outputs": [],
   "source": [
    "import pandas as pd\n",
    "from datetime import datetime"
   ]
  },
  {
   "cell_type": "code",
   "execution_count": null,
   "metadata": {},
   "outputs": [],
   "source": [
    "# Cargar los datos desde los archivos CSV\n",
    "transaction = pd.read_csv(\"./data/transaction_df.csv\")\n",
    "inventory = pd.read_csv(\"./data/inventory_df.csv\")\n",
    "transaction_df = transaction.copy()\n",
    "inventory_df = inventory.copy()"
   ]
  },
  {
   "cell_type": "code",
   "execution_count": null,
   "metadata": {},
   "outputs": [],
   "source": [
    "# # Convertir la columna 'fecha' a tipo datetime\n",
    "transaction_df['fecha'] = pd.to_datetime(transaction_df['fecha'])\n",
    "inventory_df['fecha'] = pd.to_datetime(inventory_df['fecha'], format='%Y_%m_%d')\n"
   ]
  },
  {
   "cell_type": "code",
   "execution_count": null,
   "metadata": {},
   "outputs": [],
   "source": [
    "\n",
    "# # Filtrar las transacciones en días con números pares\n",
    "transaction_df_even = transaction_df[transaction_df['fecha'].dt.day % 2 == 0]\n",
    "\n",
    "# # Agrupar por usuario y calcular el total gastado por usuario\n",
    "gasto_por_usuario = transaction_df_even.groupby('id_usuario')['total_pagado_usd'].sum()\n",
    "\n",
    "# # Obtener los 10 usuarios que gastaron más\n",
    "top_10_usuarios = gasto_por_usuario.nlargest(10)\n",
    "\n",
    "print(top_10_usuarios)"
   ]
  },
  {
   "cell_type": "code",
   "execution_count": null,
   "metadata": {},
   "outputs": [],
   "source": [
    "transaction_df['fecha'].min()"
   ]
  },
  {
   "cell_type": "code",
   "execution_count": null,
   "metadata": {},
   "outputs": [],
   "source": [
    "# Obtener el precio promedio por producto por carrito comprado para los primeros 5 días\n",
    "\n",
    "# Filtrar las transacciones para los primeros 5 días\n",
    "fecha_inicial = transaction_df['fecha'].min()  # Fecha inicial que corresponde al primer día\n",
    "fecha_final = fecha_inicial + pd.DateOffset(days=4)  # Fecha final que corresponde al quinto día\n",
    "transaction_df_first_5_days = transaction_df[(transaction_df['fecha'] >= fecha_inicial) & (transaction_df['fecha'] <= fecha_final)]\n",
    "\n",
    "# Convertir la columna 'productos_carro' de cadena a lista\n",
    "transaction_df_first_5_days['productos_carro'] = transaction_df_first_5_days['productos_carro'].apply(eval)\n",
    "\n",
    "# Explotar la lista de productos en filas separadas\n",
    "transaction_df_first_5_days = transaction_df_first_5_days.explode('productos_carro')\n",
    "\n",
    "# Agrupar por producto y calcular el precio promedio por producto por carrito\n",
    "precio_promedio_por_producto = transaction_df_first_5_days.groupby('productos_carro')['total_pagado_usd'].mean().round(2)\n",
    "\n",
    "print(precio_promedio_por_producto)"
   ]
  },
  {
   "cell_type": "code",
   "execution_count": null,
   "metadata": {},
   "outputs": [],
   "source": [
    "# Obtener los top 5 vendedores con mayor cantidad de ítems en inventario\n",
    "\n",
    "# Agrupar por vendedor y calcular la suma de inventario para cada vendedor\n",
    "inventario_por_vendedor = inventory_df.groupby('id_vendedor')['inventario'].sum()\n",
    "\n",
    "# Obtener los 5 vendedores con la mayor cantidad de ítems en inventario\n",
    "top_5_vendedores = inventario_por_vendedor.nlargest(5)\n",
    "\n",
    "print(top_5_vendedores)"
   ]
  },
  {
   "cell_type": "code",
   "execution_count": null,
   "metadata": {},
   "outputs": [],
   "source": [
    "# Obtener los top 5 vendedores que vendieron la mayor cantidad de ítems\n",
    "\n",
    "# Explotar la lista de productos en filas separadas\n",
    "transaction_df = transaction_df.explode('productos_carro')\n",
    "\n",
    "# Agrupar por vendedor y contar la cantidad de ítems vendidos por cada vendedor\n",
    "cantidad_items_por_vendedor = transaction_df.groupby('id_usuario')['productos_carro'].count()\n",
    "\n",
    "# Obtener los 5 vendedores que vendieron la mayor cantidad de ítems\n",
    "top_5_vendedores = cantidad_items_por_vendedor.nlargest(5)\n",
    "\n",
    "print(top_5_vendedores)"
   ]
  },
  {
   "cell_type": "markdown",
   "metadata": {},
   "source": [
    "En este código, hemos agregado un ciclo que verifica si hay suficientes productos en el inventario para cada producto en cada transacción. Si un producto no está disponible en el inventario en la fecha de la transacción o si el inventario es igual o menor a 0, se considera que la transacción no tiene sentido. Las transacciones sin sentido se registran en el diccionario transacciones_sin_sentido, con el usuario como clave y su lista de 'id_orden' como valor. Este diccionario contendrá las transacciones que no tienen sentido según el criterio de inventario insuficiente."
   ]
  },
  {
   "cell_type": "code",
   "execution_count": null,
   "metadata": {},
   "outputs": [],
   "source": [
    "# SKIP THIS APPROACH - IT´s TAKILG TOO LONG\n",
    "# Crear un diccionario para almacenar transacciones sin sentido\n",
    "# transacciones_sin_sentido = {}\n",
    "\n",
    "# # Iterar a través de las transacciones\n",
    "# for index, transaccion in transaction_df.iterrows():\n",
    "#     fecha_transaccion = transaccion['fecha']\n",
    "#     usuario = transaccion['id_usuario']\n",
    "#     orden = transaccion['id_orden']\n",
    "#     producto = transaccion['productos_carro']\n",
    "\n",
    "#     # Verificar si hay suficientes productos en el inventario para la transacción\n",
    "#     for producto_comprado in producto:\n",
    "#         producto_existente = inventory_df[(inventory_df['id_producto'] == producto_comprado) & (inventory_df['fecha'] == fecha_transaccion)]\n",
    "#         if producto_existente.empty or producto_existente['inventario'].values[0] <= 0:\n",
    "#             # La transacción no tiene sentido\n",
    "#             if usuario not in transacciones_sin_sentido:\n",
    "#                 transacciones_sin_sentido[usuario] = []\n",
    "#             transacciones_sin_sentido[usuario].append(orden)\n",
    "\n",
    "# # Imprimir el diccionario de transacciones sin sentido\n",
    "# print(transacciones_sin_sentido)"
   ]
  },
  {
   "cell_type": "code",
   "execution_count": null,
   "metadata": {},
   "outputs": [],
   "source": [
    "\n",
    "# Combinar datos de transacciones con datos de inventario basándose en 'productos_carro' y 'fecha'\n",
    "merged_df = transaction_df.merge(inventory_df, left_on=['productos_carro', 'fecha'], right_on=['id_producto', 'fecha'], how='left')"
   ]
  },
  {
   "cell_type": "code",
   "execution_count": null,
   "metadata": {},
   "outputs": [],
   "source": [
    "\n",
    "# Filtrar transacciones con datos de inventario faltantes o donde 'inventario' es <= 0\n",
    "transacciones_invalidas = merged_df[(merged_df['inventario'].isna()) | (merged_df['inventario'] <= 0)]"
   ]
  },
  {
   "cell_type": "code",
   "execution_count": null,
   "metadata": {},
   "outputs": [],
   "source": [
    "# Agrupar transacciones inválidas por 'id_usuario' y recopilar los valores de 'id_orden'\n",
    "transacciones_invalidas_agrupadas = transacciones_invalidas.groupby('id_usuario')['id_orden'].apply(list).reset_index()"
   ]
  },
  {
   "cell_type": "code",
   "execution_count": null,
   "metadata": {},
   "outputs": [],
   "source": [
    "\n",
    "# Crear un diccionario donde el usuario es la clave y sus órdenes inválidas son los valores\n",
    "transacciones_sin_sentido = dict(zip(transacciones_invalidas_agrupadas['id_usuario'], transacciones_invalidas_agrupadas['id_orden']))"
   ]
  },
  {
   "cell_type": "code",
   "execution_count": null,
   "metadata": {},
   "outputs": [],
   "source": [
    "# Imprimir el diccionario de transacciones inválidas\n",
    "print(transacciones_sin_sentido)"
   ]
  }
 ],
 "metadata": {
  "kernelspec": {
   "display_name": "PythonTestTemplate",
   "language": "python",
   "name": "python3"
  },
  "language_info": {
   "codemirror_mode": {
    "name": "ipython",
    "version": 3
   },
   "file_extension": ".py",
   "mimetype": "text/x-python",
   "name": "python",
   "nbconvert_exporter": "python",
   "pygments_lexer": "ipython3",
   "version": "3.10.12"
  }
 },
 "nbformat": 4,
 "nbformat_minor": 2
}
